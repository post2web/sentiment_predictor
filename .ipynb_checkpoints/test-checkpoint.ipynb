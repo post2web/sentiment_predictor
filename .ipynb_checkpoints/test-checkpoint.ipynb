{
 "cells": [
  {
   "cell_type": "code",
   "execution_count": 1,
   "metadata": {
    "collapsed": true
   },
   "outputs": [],
   "source": [
    "from sklearn.model_selection import train_test_split\n",
    "import tensorflow as tf\n",
    "import pickle"
   ]
  },
  {
   "cell_type": "code",
   "execution_count": 2,
   "metadata": {
    "collapsed": true
   },
   "outputs": [],
   "source": [
    "X_test, y_test = np.load('data/X_test.npy'), np.load('data/y_test.npy')\n",
    "\n",
    "checkout_dir = 'checkpoints/'\n",
    "batch_size = 500\n",
    "\n",
    "def get_batches(x, y, batch_size=100):\n",
    "    n_batches = len(x) // batch_size\n",
    "    x, y = x[:n_batches*batch_size], y[:n_batches*batch_size]\n",
    "    for i in range(0, len(x), batch_size):\n",
    "        yield x[i:i+batch_size], y[i:i+batch_size]"
   ]
  },
  {
   "cell_type": "code",
   "execution_count": 3,
   "metadata": {},
   "outputs": [
    {
     "name": "stdout",
     "output_type": "stream",
     "text": [
      "Test accuracy: 0.834\n"
     ]
    }
   ],
   "source": [
    "tf.reset_default_graph()\n",
    "graph = tf.Graph()\n",
    "\n",
    "test_acc = []\n",
    "with tf.Session(graph=graph) as sess:\n",
    "    loader = tf.train.import_meta_graph(checkout_dir + 'model.ckpt.meta')\n",
    "    loader.restore(sess, tf.train.latest_checkpoint('checkpoints'))\n",
    "    \n",
    "    \n",
    "    needed_names = ['inputs:0', 'labels:0', 'initial_state:0', 'accuracy:0', 'final_state:0', 'keep_prob:0']\n",
    "    tensors = [graph.get_tensor_by_name(name) for name in needed_names]\n",
    "    inputs, labels, initial_state, accuracy, final_state, keep_prob = tensors\n",
    "    \n",
    "    test_state = sess.run(initial_state, {inputs: np.array([[0]])})\n",
    "        \n",
    "    for x, y in get_batches(X_test, y_test, batch_size):\n",
    "        feed = {inputs: x, labels: y[:, None], keep_prob: 1,\n",
    "                initial_state: test_state}\n",
    "        batch_acc, test_state = sess.run([accuracy, final_state], feed_dict=feed)\n",
    "        test_acc.append(batch_acc)\n",
    "    print(\"Test accuracy: {:.3f}\".format(np.mean(test_acc)))"
   ]
  }
 ],
 "metadata": {
  "kernelspec": {
   "display_name": "Python 3",
   "language": "python",
   "name": "python3"
  },
  "language_info": {
   "codemirror_mode": {
    "name": "ipython",
    "version": 3
   },
   "file_extension": ".py",
   "mimetype": "text/x-python",
   "name": "python",
   "nbconvert_exporter": "python",
   "pygments_lexer": "ipython3",
   "version": "3.5.2"
  }
 },
 "nbformat": 4,
 "nbformat_minor": 2
}
