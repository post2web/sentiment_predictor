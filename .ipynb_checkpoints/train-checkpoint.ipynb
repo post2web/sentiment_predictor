{
 "cells": [
  {
   "cell_type": "code",
   "execution_count": 1,
   "metadata": {
    "collapsed": true
   },
   "outputs": [],
   "source": [
    "from sklearn.model_selection import train_test_split\n",
    "import tensorflow as tf\n",
    "import pickle"
   ]
  },
  {
   "cell_type": "markdown",
   "metadata": {},
   "source": [
    "## Load"
   ]
  },
  {
   "cell_type": "code",
   "execution_count": 2,
   "metadata": {
    "collapsed": true
   },
   "outputs": [],
   "source": [
    "X, y = np.load('data/X_train.npy'), np.load('data/y_train.npy')\n",
    "X_train, X_valid, y_train, y_valid = train_test_split(X, y, train_size=.9)\n",
    "\n",
    "word_to_id = pickle.load(open('data/word_to_id.p', 'rb'))\n",
    "\n",
    "def get_batches(x, y, batch_size=100):\n",
    "    n_batches = len(x) // batch_size\n",
    "    x, y = x[:n_batches*batch_size], y[:n_batches*batch_size]\n",
    "    for i in range(0, len(x), batch_size):\n",
    "        yield x[i:i+batch_size], y[i:i+batch_size]"
   ]
  },
  {
   "cell_type": "markdown",
   "metadata": {},
   "source": [
    "## Hyperparameters"
   ]
  },
  {
   "cell_type": "code",
   "execution_count": null,
   "metadata": {
    "collapsed": true
   },
   "outputs": [],
   "source": [
    "lstm_size = 256\n",
    "lstm_layers = 3\n",
    "batch_size = 500\n",
    "learning_rate = 0.001\n",
    "embed_size = 300\n",
    "\n",
    "epochs = 50\n",
    "\n",
    "checkpoints_dir = 'checkpoints'\n",
    "\n",
    "os.makedirs(checkpoints_dir, exist_ok=True)\n",
    "\n",
    "n_words = len(word_to_id)"
   ]
  },
  {
   "cell_type": "markdown",
   "metadata": {},
   "source": [
    "## Graph"
   ]
  },
  {
   "cell_type": "code",
   "execution_count": null,
   "metadata": {
    "collapsed": true
   },
   "outputs": [],
   "source": [
    "graph = tf.Graph()\n",
    "with graph.as_default():\n",
    "    \n",
    "    # inputs\n",
    "    inputs = tf.placeholder(tf.int32, [None, None], name='inputs')\n",
    "    labels = tf.placeholder(tf.int32, [None, None], name='labels')\n",
    "    keep_prob = tf.placeholder(tf.float32, name='keep_prob')\n",
    "    \n",
    "    # embedding layer\n",
    "    embedding = tf.Variable(tf.random_uniform((n_words, embed_size), -1, 1))\n",
    "    embed = tf.nn.embedding_lookup(embedding, inputs)\n",
    "    \n",
    "    # basic LSTM cell with dropout\n",
    "    lstm = tf.contrib.rnn.BasicLSTMCell(lstm_size)\n",
    "    lstm = tf.contrib.rnn.DropoutWrapper(lstm, output_keep_prob=keep_prob)\n",
    "    \n",
    "    # Stack up multiple LSTM layers, for deep learning\n",
    "    cell = tf.contrib.rnn.MultiRNNCell([lstm] * lstm_layers)\n",
    "    \n",
    "    # initial state of all zeros\n",
    "    initial_state = cell.zero_state(batch_size, tf.float32)\n",
    "\n",
    "    # run the data through the RNN nodes\n",
    "    outputs, final_state = tf.nn.dynamic_rnn(\n",
    "        cell, embed, initial_state=initial_state)\n",
    "    \n",
    "    # name the state tensors\n",
    "    initial_state = tf.identity(initial_state, 'initial_state')\n",
    "    final_state = tf.identity(final_state, 'final_state')\n",
    "    \n",
    "    # output\n",
    "    # only care about the final output\n",
    "    predictions = tf.contrib.layers.fully_connected(outputs[:, -1], 1, activation_fn=tf.sigmoid)\n",
    "    \n",
    "    # cost\n",
    "    cost = tf.losses.mean_squared_error(labels, predictions)\n",
    "    \n",
    "    # optimizer\n",
    "    optimizer = tf.train.AdamOptimizer(learning_rate).minimize(cost)\n",
    "    \n",
    "    # accuracy\n",
    "    correct_pred = tf.equal(tf.cast(tf.round(predictions), tf.int32), labels)\n",
    "    accuracy = tf.reduce_mean(tf.cast(correct_pred, tf.float32))\n",
    "    accuracy = tf.identity(accuracy, 'accuracy')"
   ]
  },
  {
   "cell_type": "markdown",
   "metadata": {},
   "source": [
    "## Training"
   ]
  },
  {
   "cell_type": "code",
   "execution_count": null,
   "metadata": {
    "scrolled": false
   },
   "outputs": [],
   "source": [
    "with graph.as_default():\n",
    "    saver = tf.train.Saver()\n",
    "\n",
    "with tf.Session(graph=graph) as sess:\n",
    "    sess.run(tf.global_variables_initializer())\n",
    "    iteration = 1\n",
    "    for epoch in range(epochs):\n",
    "        state = sess.run(initial_state)\n",
    "        \n",
    "        for x, y in get_batches(X_train, y_train, batch_size):\n",
    "            feed = {inputs: x, labels: y[:, None],\n",
    "                    keep_prob: 0.3, initial_state: state}\n",
    "            loss, state, _ = sess.run(\n",
    "                [cost, final_state, optimizer], feed_dict=feed)\n",
    "            \n",
    "            if iteration%5==0:\n",
    "                print(\"Epoch:\", epoch, \"Step:\", iteration, \"Train loss:\", loss)\n",
    "\n",
    "            if iteration%25==0:\n",
    "                val_acc = []\n",
    "                val_state = sess.run(cell.zero_state(batch_size, tf.float32))\n",
    "                for x, y in get_batches(X_valid, y_valid, batch_size):\n",
    "                    feed = {inputs: x, labels: y[:, None], keep_prob: 1,\n",
    "                            initial_state: val_state}\n",
    "                    batch_acc, val_state = sess.run([accuracy, final_state], feed_dict=feed)\n",
    "                    val_acc.append(batch_acc)\n",
    "                print(\"Validation accuracy:\", np.mean(val_acc))\n",
    "            iteration +=1\n",
    "    print('Trining done. Now save.')\n",
    "    saver.save(sess, checkpoints_dir + '/model.ckpt')"
   ]
  }
 ],
 "metadata": {
  "kernelspec": {
   "display_name": "Python 3",
   "language": "python",
   "name": "python3"
  },
  "language_info": {
   "codemirror_mode": {
    "name": "ipython",
    "version": 3
   },
   "file_extension": ".py",
   "mimetype": "text/x-python",
   "name": "python",
   "nbconvert_exporter": "python",
   "pygments_lexer": "ipython3",
   "version": "3.5.2"
  }
 },
 "nbformat": 4,
 "nbformat_minor": 2
}
